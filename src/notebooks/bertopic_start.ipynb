{
 "cells": [
  {
   "cell_type": "markdown",
   "id": "16b0828c",
   "metadata": {},
   "source": [
    "## What is bertopic\n",
    "A topic modeling tool based on bert(a vector space capable to capture the semantic and contextual information)\n",
    "## Difference to other topic modeling tools\n",
    "- Based on Bert, not based on BoW in which each word is independent: the meaning is missing\n",
    "- Topic clustering: cluster similar vectors in high dimensional space. Different to LDA which is a probabilistic model, with some dimensionality reduce techniques, bertopic projects corpus into a vetor space. Then using topic clustering algorithm to calculate similarity. Two ways of topic clustering: centroid-based and Density-based.\n",
    "- Centroid-based: suppose each class can be represented by a centroid, the algorighm make sure all points in the class has the smallest distance to its centroid(like data are distributed like many balls, each ball is a topic). Methods: K-means. Advan: controllable calculation complexity, comprehensible by humain, and eash to visualize in low dimensional space.\n",
    "- Hierarchical Clustering\n",
    "- Density-based: investigate the density of data points in local space whether it is enough to be classed as a topic. For those data that do not belong to any desity level, they are classed as noisy or outliers. So basically, this methods intend to class the space by different level of dentisy. Methods: DBSACN(needs 2 parameters: 邻域半径ϵ and Minpts for a density level) and HDBSCAN. Advan: not sensible to noisies. No need to determine the n of topics which is calculated automaticcaly. Better performance in sparse data and irregular distribution data in high dimensional space. \n",
    "## Structure\n",
    "Vectoriazation + Lower Dimensionality + Topic clustering + topic representation\n",
    "- Bert: A vector space based on pretrained models like sentence-BERT to transform data into vectors like word2vec but capable to capture more information.\n",
    "- UMAP: solves curse of dimensionality, the higher the dimensionality is, the closer the data are\n",
    "- HDBSCAN: topic clustering\n",
    "- Represent each clusters using c-TF-IDF: For each cluster, we want to find the most representative words for each topic. So, we need to find the most important words, which is the case of IF-IDF which is called c-IF-IDF. Because the importance of a term is based on its cluster (a collection of docs). So we use c-IF-IDF to build a vector space, where each Document of IDF is a topic.\n"
   ]
  },
  {
   "cell_type": "markdown",
   "id": "0c278d6d",
   "metadata": {},
   "source": [
    "## About Bert word embedding techniques\n",
    "Stentence Transformer: cross-lingual model, it transforms a sentence into a certain demension vector based on the pretrained model used.\n",
    "Cross-lingual: because transformers are based on Byte-pair encoding or SentencePiece which can capture some common cross-lingual information \n",
    "### How to hindle big corpora\n",
    "split a complexe question into a group of small questions\n",
    "image that if we have a corpus, we want to get its vector representation. We gonna use `SentenceTransformer` which accepts a certain length of input(512 tokens for example). We split our corpus into sentences or pragraphs or ... depending on the corpus itself and our task. Then we get a matrix of vectors where each vector is the split result. This is our doc's vector representation, but we want to get a synthesied version. We can do something called pooling: we can just calculate the mean of all vectors and use this as our doc's representation, which is called `mean pooling`, or use `weighted averaing` like TF-IDF. Or, we can choose the most representive paragraphs by choosing the praragraphs which have the higest similarity with other papagraphs, or many other ways like `hierarchical aggregation`, `attention pooling`, `embeddings fusion`.\n",
    "### Compare Bert with Word2Vec"
   ]
  },
  {
   "cell_type": "code",
   "execution_count": 1,
   "id": "8858eb95",
   "metadata": {},
   "outputs": [
    {
     "name": "stderr",
     "output_type": "stream",
     "text": [
      "/home/chen/Desktop/my_env/lib/python3.12/site-packages/tqdm/auto.py:21: TqdmWarning: IProgress not found. Please update jupyter and ipywidgets. See https://ipywidgets.readthedocs.io/en/stable/user_install.html\n",
      "  from .autonotebook import tqdm as notebook_tqdm\n"
     ]
    },
    {
     "name": "stdout",
     "output_type": "stream",
     "text": [
      "BERT Similarity: 0.9890531301498413\n",
      "Word2Vec Similarity: 0.9999999949538801\n",
      "\n",
      "Vector dimensions:\n",
      "BERT: (384,)\n",
      "Word2Vec: (300,)\n"
     ]
    }
   ],
   "source": [
    "from sentence_transformers import SentenceTransformer\n",
    "import gensim.downloader as api\n",
    "import numpy as np\n",
    "from scipy.spatial.distance import cosine  \n",
    "\n",
    "# Sentences to compare\n",
    "sent1 = \"the cat casses the dog\"\n",
    "sent2 = \"the dog casses the cat\"\n",
    "\n",
    "# 1. Using BERT (sentence-transformers)\n",
    "bert_model = SentenceTransformer('sentence-transformers/all-MiniLM-L12-v2')\n",
    "bert_emb1 = bert_model.encode([sent1])[0]\n",
    "bert_emb2 = bert_model.encode([sent2])[0]\n",
    "bert_similarity = 1 - cosine(bert_emb1, bert_emb2)  # Convert distance to similarity\n",
    "\n",
    "# 2. Using Word2Vec\n",
    "w2v_model = api.load('word2vec-google-news-300')\n",
    "\n",
    "def sentence_to_vec(sentence, model):\n",
    "    words = sentence.lower().split()\n",
    "    word_vecs = []\n",
    "    for word in words:\n",
    "        if word in model:\n",
    "            word_vecs.append(model[word])\n",
    "    if word_vecs:\n",
    "        return np.mean(word_vecs, axis=0)\n",
    "    return np.zeros(model.vector_size)\n",
    "\n",
    "w2v_emb1 = sentence_to_vec(sent1, w2v_model)\n",
    "w2v_emb2 = sentence_to_vec(sent2, w2v_model)\n",
    "w2v_similarity = 1 - cosine(w2v_emb1, w2v_emb2)\n",
    "\n",
    "# Print results\n",
    "print(\"BERT Similarity:\", bert_similarity)\n",
    "print(\"Word2Vec Similarity:\", w2v_similarity)\n",
    "\n",
    "# Print vector dimensions\n",
    "print(\"\\nVector dimensions:\")\n",
    "print(\"BERT:\", bert_emb1.shape)\n",
    "print(\"Word2Vec:\", w2v_emb1.shape)"
   ]
  },
  {
   "cell_type": "markdown",
   "id": "0d1121a9",
   "metadata": {},
   "source": [
    "Though the similarity is not very different, we can still find that Word2Vec handles less better the finite meanning than Bert"
   ]
  },
  {
   "cell_type": "markdown",
   "id": "2729ca8d",
   "metadata": {},
   "source": [
    "## Demo\n",
    "### Tools"
   ]
  },
  {
   "cell_type": "code",
   "execution_count": 3,
   "id": "1b686c9b",
   "metadata": {},
   "outputs": [
    {
     "name": "stderr",
     "output_type": "stream",
     "text": [
      "/home/chen/Desktop/my_env/lib/python3.12/site-packages/tqdm/auto.py:21: TqdmWarning: IProgress not found. Please update jupyter and ipywidgets. See https://ipywidgets.readthedocs.io/en/stable/user_install.html\n",
      "  from .autonotebook import tqdm as notebook_tqdm\n"
     ]
    }
   ],
   "source": [
    "import numpy as np\n",
    "from bertopic import BERTopic\n",
    "from sentence_transformers import SentenceTransformer\n",
    "from umap import UMAP\n",
    "from hdbscan import HDBSCAN\n",
    "from sklearn.feature_extraction.text import CountVectorizer\n",
    "import pandas as pd\n",
    "from pathlib import Path\n",
    "import json\n",
    "from typing import Generator\n",
    "from nltk.corpus import stopwords \n",
    "from nltk.stem.wordnet import WordNetLemmatizer\n",
    "from nltk import RegexpTokenizer\n",
    "from bertopic.vectorizers import ClassTfidfTransformer\n",
    "import openai\n",
    "from bertopic.representation import OpenAI\n",
    "import os"
   ]
  },
  {
   "cell_type": "markdown",
   "id": "7bc5514e",
   "metadata": {},
   "source": [
    "### Load data"
   ]
  },
  {
   "cell_type": "code",
   "execution_count": 57,
   "id": "83eb36fd",
   "metadata": {},
   "outputs": [],
   "source": [
    "def read_json(path:Path,pos:str = None) -> Generator:\n",
    "    with open(path,'r') as file:\n",
    "        articles = json.load(file)\n",
    "        for article in articles:\n",
    "            if pos:\n",
    "                data = [word[\"form\"] for analysis in article[\"analysis\"] for word in analysis if word[\"pos\"].lower()==pos.lower()]\n",
    "                yield \" \".join(data)\n",
    "            else:\n",
    "                data = article[\"description\"] + \" \" + article[\"title\"]\n",
    "                yield data # deal with big data\n",
    "\n",
    "def preprocesse(data:list,lemma:bool=True) -> None:\n",
    "    stoplist = set(stopwords.words(\"french\"))\n",
    "    tokenizer = RegexpTokenizer(r'\\w+') \n",
    "    if lemma:\n",
    "        lemmatizer = WordNetLemmatizer()\n",
    "        for idx in range(len(data)):\n",
    "            data[idx] = [lemmatizer.lemmatize(token) for token in tokenizer.tokenize(data[idx].lower()) if token not in stoplist and not token.isnumeric() and len(token)>1]\n",
    "    else:\n",
    "        for idx in range(len(data)):\n",
    "            data[idx] = [token for token in tokenizer.tokenize(data[idx].lower()) if token not in stoplist and not token.isnumeric() and len(token)>1]\n",
    "\n",
    "def show_data(data:list):\n",
    "    for idx, article in enumerate(data):\n",
    "        if idx < 5:\n",
    "            print(article)\n",
    "\n",
    "embedding_model = SentenceTransformer('sentence-transformers/all-MiniLM-L12-v2')\n"
   ]
  },
  {
   "cell_type": "code",
   "execution_count": 58,
   "id": "d8c303c5",
   "metadata": {},
   "outputs": [
    {
     "name": "stdout",
     "output_type": "stream",
     "text": [
      "réunis tanzanie samedi février dirigeants afrique afrique centrale appelé cessez feu république démocratique congo reprise dialogue entre belligérants rdc rwanda etats voisins tentent faire baisser tension\n",
      "alors administration trump annoncé couper financements tout projet recherche contenant termes femmes inclusion traumatisme inégalité statut lgbt france doit lancer programme accueil universitaires américains concernés demande historien etats unis président ecole hautes études science sociales science sociales france doit accueillir chercheurs victimes chasse sorcières donald trump\n",
      "extraction précieux sable minéralisé multinationale déplace depuis village entiers avale terres agricoles laissant derrière communautés amères inquiètes histoire espoir brisé sénégal comment groupe minier français eramet croque grande côte\n",
      "arrivé tête suffrage premier ministre gauche bonne position poursuivre politique fermeté face serbie reconnaît toujours indépendance pay législatives kosovo nouveau succès albin kurti tribun autodétermination\n",
      "si dit avoir reçu notification hausse droits douanes promis donald trump commission européenne assure lundi février être prête répliquer mesures injustifiées côté ministre français affaire étrangères jean noël barrot assure aucune hésitation droits douane américains acier ue dit prête répliquer\n"
     ]
    }
   ],
   "source": [
    "data = list(read_json(Path(\"data/stanza_corpus.json\")))\n",
    "preprocesse(data)\n",
    "data = [ \" \".join(d) for d in data]\n",
    "show_data(data)\n",
    "\n",
    "embeddings = embedding_model.encode(data)"
   ]
  },
  {
   "cell_type": "markdown",
   "id": "1b4779c7",
   "metadata": {},
   "source": [
    "### Lower dimensionality using UMAP"
   ]
  },
  {
   "cell_type": "code",
   "execution_count": 71,
   "id": "85a90c19",
   "metadata": {},
   "outputs": [],
   "source": [
    "umap_model = UMAP(\n",
    "    n_neighbors=5,\n",
    "    n_components=5,\n",
    "    min_dist=0.05,\n",
    "    metric='cosine',\n",
    "    random_state=42\n",
    ")"
   ]
  },
  {
   "cell_type": "markdown",
   "id": "85082b4e",
   "metadata": {},
   "source": [
    "### Topic clustering"
   ]
  },
  {
   "cell_type": "code",
   "execution_count": 73,
   "id": "720abbf4",
   "metadata": {},
   "outputs": [],
   "source": [
    "hdbscan_model = HDBSCAN(\n",
    "    min_cluster_size=3, # for each class at least 5 data points\n",
    "    min_samples=2,\n",
    "    cluster_selection_method=\"eom\",\n",
    "    metric=\"euclidean\",\n",
    "    gen_min_span_tree=True\n",
    ")\n"
   ]
  },
  {
   "cell_type": "markdown",
   "id": "4d930049",
   "metadata": {},
   "source": [
    "## Vectorization of cluters\n",
    "- IF-IDF\n",
    "- C-IF-IDF"
   ]
  },
  {
   "cell_type": "code",
   "execution_count": 75,
   "id": "637bb04c",
   "metadata": {},
   "outputs": [],
   "source": [
    "\n",
    "vectorizer_model = CountVectorizer()\n",
    "C_if_idf_model = ClassTfidfTransformer()\n",
    "\n",
    "# use a llm for fine tuning\n",
    "key = os.getenv(\"OPENAI_API_KEY\")\n",
    "client = openai.OpenAI(api_key=key)\n",
    "representation_model = OpenAI(\n",
    "    client, \n",
    "    model=\"gpt-4o-mini\", \n",
    "    chat=True\n",
    "    )"
   ]
  },
  {
   "cell_type": "markdown",
   "id": "67eda8e0",
   "metadata": {},
   "source": [
    "### Train our BerTopic"
   ]
  },
  {
   "cell_type": "code",
   "execution_count": 79,
   "id": "6f688492",
   "metadata": {},
   "outputs": [],
   "source": [
    "topic_model = BERTopic(\n",
    "    n_gram_range=(1,2),\n",
    "    embedding_model=embedding_model,\n",
    "    vectorizer_model=vectorizer_model,\n",
    "    umap_model=umap_model,\n",
    "    hdbscan_model=hdbscan_model,\n",
    "    min_topic_size=3, # density\n",
    "    ctfidf_model=C_if_idf_model,\n",
    "    representation_model=representation_model, # for fine tuning\n",
    "    # language=\"multilingual\n",
    "    #nr_topics=10, max topics\n",
    "    top_n_words=3 # top n words to represent each topic\n",
    ")\n",
    "\n",
    "topics,probs = topic_model.fit_transform(data,embeddings=embeddings) # 动态计算\n",
    "topic_info = topic_model.get_topic_info()"
   ]
  },
  {
   "cell_type": "code",
   "execution_count": 80,
   "id": "108add6e",
   "metadata": {},
   "outputs": [
    {
     "data": {
      "text/html": [
       "<div>\n",
       "<style scoped>\n",
       "    .dataframe tbody tr th:only-of-type {\n",
       "        vertical-align: middle;\n",
       "    }\n",
       "\n",
       "    .dataframe tbody tr th {\n",
       "        vertical-align: top;\n",
       "    }\n",
       "\n",
       "    .dataframe thead th {\n",
       "        text-align: right;\n",
       "    }\n",
       "</style>\n",
       "<table border=\"1\" class=\"dataframe\">\n",
       "  <thead>\n",
       "    <tr style=\"text-align: right;\">\n",
       "      <th></th>\n",
       "      <th>Topic</th>\n",
       "      <th>Count</th>\n",
       "      <th>Name</th>\n",
       "      <th>Representation</th>\n",
       "      <th>Representative_Docs</th>\n",
       "    </tr>\n",
       "  </thead>\n",
       "  <tbody>\n",
       "    <tr>\n",
       "      <th>0</th>\n",
       "      <td>-1</td>\n",
       "      <td>4</td>\n",
       "      <td>-1_Current events updates</td>\n",
       "      <td>[Current events updates]</td>\n",
       "      <td>[ministre culture également annoncé vouloir ré...</td>\n",
       "    </tr>\n",
       "    <tr>\n",
       "      <th>1</th>\n",
       "      <td>0</td>\n",
       "      <td>24</td>\n",
       "      <td>0_Fashion and Attractions</td>\n",
       "      <td>[Fashion and Attractions]</td>\n",
       "      <td>[sûrement déjà allé parc attraction savez avan...</td>\n",
       "    </tr>\n",
       "    <tr>\n",
       "      <th>2</th>\n",
       "      <td>1</td>\n",
       "      <td>12</td>\n",
       "      <td>1_Government Budget Cuts</td>\n",
       "      <td>[Government Budget Cuts]</td>\n",
       "      <td>[agence renseignement lance plan départs volon...</td>\n",
       "    </tr>\n",
       "    <tr>\n",
       "      <th>3</th>\n",
       "      <td>2</td>\n",
       "      <td>10</td>\n",
       "      <td>2_Geopolitical energy disconnect</td>\n",
       "      <td>[Geopolitical energy disconnect]</td>\n",
       "      <td>[lituanie estonie lettonie achevé dimanche int...</td>\n",
       "    </tr>\n",
       "    <tr>\n",
       "      <th>4</th>\n",
       "      <td>3</td>\n",
       "      <td>8</td>\n",
       "      <td>3_Political elections and democracy</td>\n",
       "      <td>[Political elections and democracy]</td>\n",
       "      <td>[pay plus jeune europe rares région progresser...</td>\n",
       "    </tr>\n",
       "    <tr>\n",
       "      <th>5</th>\n",
       "      <td>4</td>\n",
       "      <td>8</td>\n",
       "      <td>4_Trade conflicts Trump</td>\n",
       "      <td>[Trade conflicts Trump]</td>\n",
       "      <td>[alors administration trump annoncé couper fin...</td>\n",
       "    </tr>\n",
       "    <tr>\n",
       "      <th>6</th>\n",
       "      <td>5</td>\n",
       "      <td>8</td>\n",
       "      <td>5_Trade War Updates</td>\n",
       "      <td>[Trade War Updates]</td>\n",
       "      <td>[président américain donald trump suspendu lun...</td>\n",
       "    </tr>\n",
       "    <tr>\n",
       "      <th>7</th>\n",
       "      <td>6</td>\n",
       "      <td>8</td>\n",
       "      <td>6_Climate and Tourism Issues</td>\n",
       "      <td>[Climate and Tourism Issues]</td>\n",
       "      <td>[décryptage jalon important trajectoire vers n...</td>\n",
       "    </tr>\n",
       "    <tr>\n",
       "      <th>8</th>\n",
       "      <td>7</td>\n",
       "      <td>8</td>\n",
       "      <td>7_French cinema industry</td>\n",
       "      <td>[French cinema industry]</td>\n",
       "      <td>[tout long vie acteur cherché diversifier sour...</td>\n",
       "    </tr>\n",
       "    <tr>\n",
       "      <th>9</th>\n",
       "      <td>8</td>\n",
       "      <td>8</td>\n",
       "      <td>8_Ski station challenges</td>\n",
       "      <td>[Ski station challenges]</td>\n",
       "      <td>[fragilisée condition météo difficiles explosi...</td>\n",
       "    </tr>\n",
       "    <tr>\n",
       "      <th>10</th>\n",
       "      <td>9</td>\n",
       "      <td>7</td>\n",
       "      <td>9_Libération des otages</td>\n",
       "      <td>[Libération des otages]</td>\n",
       "      <td>[libération fait point conflit entre hamas isr...</td>\n",
       "    </tr>\n",
       "    <tr>\n",
       "      <th>11</th>\n",
       "      <td>10</td>\n",
       "      <td>6</td>\n",
       "      <td>10_Presidential election updates</td>\n",
       "      <td>[Presidential election updates]</td>\n",
       "      <td>[visite mar lago absence nébuleuses édile démo...</td>\n",
       "    </tr>\n",
       "    <tr>\n",
       "      <th>12</th>\n",
       "      <td>11</td>\n",
       "      <td>6</td>\n",
       "      <td>11_Trump Gaza Proposal</td>\n",
       "      <td>[Trump Gaza Proposal]</td>\n",
       "      <td>[monde bouge alors proposition trump prendre c...</td>\n",
       "    </tr>\n",
       "    <tr>\n",
       "      <th>13</th>\n",
       "      <td>12</td>\n",
       "      <td>6</td>\n",
       "      <td>12_Diverse research insights</td>\n",
       "      <td>[Diverse research insights]</td>\n",
       "      <td>[décryptage impressionnante crise sismique vit...</td>\n",
       "    </tr>\n",
       "    <tr>\n",
       "      <th>14</th>\n",
       "      <td>13</td>\n",
       "      <td>5</td>\n",
       "      <td>13_Super Bowl events</td>\n",
       "      <td>[Super Bowl events]</td>\n",
       "      <td>[prévoyant assister dimanche février première ...</td>\n",
       "    </tr>\n",
       "    <tr>\n",
       "      <th>15</th>\n",
       "      <td>14</td>\n",
       "      <td>5</td>\n",
       "      <td>14_Frequencies and channels</td>\n",
       "      <td>[Frequencies and channels]</td>\n",
       "      <td>[groupe nrj va déposer recours auprès conseil ...</td>\n",
       "    </tr>\n",
       "    <tr>\n",
       "      <th>16</th>\n",
       "      <td>15</td>\n",
       "      <td>4</td>\n",
       "      <td>15_U.S. Politics and Regulations</td>\n",
       "      <td>[U.S. Politics and Regulations]</td>\n",
       "      <td>[russell vought nommé directeur bureau budget ...</td>\n",
       "    </tr>\n",
       "    <tr>\n",
       "      <th>17</th>\n",
       "      <td>16</td>\n",
       "      <td>4</td>\n",
       "      <td>16_Cultural industry challenges</td>\n",
       "      <td>[Cultural industry challenges]</td>\n",
       "      <td>[décryptage scientifiques viennent découvrir v...</td>\n",
       "    </tr>\n",
       "    <tr>\n",
       "      <th>18</th>\n",
       "      <td>17</td>\n",
       "      <td>4</td>\n",
       "      <td>17_Environmental pollution issues</td>\n",
       "      <td>[Environmental pollution issues]</td>\n",
       "      <td>[décryptage mesures sédiments mer égée retrouv...</td>\n",
       "    </tr>\n",
       "  </tbody>\n",
       "</table>\n",
       "</div>"
      ],
      "text/plain": [
       "    Topic  Count                                 Name  \\\n",
       "0      -1      4            -1_Current events updates   \n",
       "1       0     24            0_Fashion and Attractions   \n",
       "2       1     12             1_Government Budget Cuts   \n",
       "3       2     10     2_Geopolitical energy disconnect   \n",
       "4       3      8  3_Political elections and democracy   \n",
       "5       4      8              4_Trade conflicts Trump   \n",
       "6       5      8                  5_Trade War Updates   \n",
       "7       6      8         6_Climate and Tourism Issues   \n",
       "8       7      8             7_French cinema industry   \n",
       "9       8      8             8_Ski station challenges   \n",
       "10      9      7              9_Libération des otages   \n",
       "11     10      6     10_Presidential election updates   \n",
       "12     11      6               11_Trump Gaza Proposal   \n",
       "13     12      6         12_Diverse research insights   \n",
       "14     13      5                 13_Super Bowl events   \n",
       "15     14      5          14_Frequencies and channels   \n",
       "16     15      4     15_U.S. Politics and Regulations   \n",
       "17     16      4      16_Cultural industry challenges   \n",
       "18     17      4    17_Environmental pollution issues   \n",
       "\n",
       "                         Representation  \\\n",
       "0              [Current events updates]   \n",
       "1             [Fashion and Attractions]   \n",
       "2              [Government Budget Cuts]   \n",
       "3      [Geopolitical energy disconnect]   \n",
       "4   [Political elections and democracy]   \n",
       "5               [Trade conflicts Trump]   \n",
       "6                   [Trade War Updates]   \n",
       "7          [Climate and Tourism Issues]   \n",
       "8              [French cinema industry]   \n",
       "9              [Ski station challenges]   \n",
       "10              [Libération des otages]   \n",
       "11      [Presidential election updates]   \n",
       "12                [Trump Gaza Proposal]   \n",
       "13          [Diverse research insights]   \n",
       "14                  [Super Bowl events]   \n",
       "15           [Frequencies and channels]   \n",
       "16      [U.S. Politics and Regulations]   \n",
       "17       [Cultural industry challenges]   \n",
       "18     [Environmental pollution issues]   \n",
       "\n",
       "                                  Representative_Docs  \n",
       "0   [ministre culture également annoncé vouloir ré...  \n",
       "1   [sûrement déjà allé parc attraction savez avan...  \n",
       "2   [agence renseignement lance plan départs volon...  \n",
       "3   [lituanie estonie lettonie achevé dimanche int...  \n",
       "4   [pay plus jeune europe rares région progresser...  \n",
       "5   [alors administration trump annoncé couper fin...  \n",
       "6   [président américain donald trump suspendu lun...  \n",
       "7   [décryptage jalon important trajectoire vers n...  \n",
       "8   [tout long vie acteur cherché diversifier sour...  \n",
       "9   [fragilisée condition météo difficiles explosi...  \n",
       "10  [libération fait point conflit entre hamas isr...  \n",
       "11  [visite mar lago absence nébuleuses édile démo...  \n",
       "12  [monde bouge alors proposition trump prendre c...  \n",
       "13  [décryptage impressionnante crise sismique vit...  \n",
       "14  [prévoyant assister dimanche février première ...  \n",
       "15  [groupe nrj va déposer recours auprès conseil ...  \n",
       "16  [russell vought nommé directeur bureau budget ...  \n",
       "17  [décryptage scientifiques viennent découvrir v...  \n",
       "18  [décryptage mesures sédiments mer égée retrouv...  "
      ]
     },
     "execution_count": 80,
     "metadata": {},
     "output_type": "execute_result"
    }
   ],
   "source": [
    "topic_info\n",
    "# -1 refers to all outliers"
   ]
  },
  {
   "cell_type": "markdown",
   "id": "542086fa",
   "metadata": {},
   "source": [
    "### Visualization"
   ]
  },
  {
   "cell_type": "code",
   "execution_count": 12,
   "id": "fd850969",
   "metadata": {},
   "outputs": [
    {
     "name": "stderr",
     "output_type": "stream",
     "text": [
      "  0%|          | 0/17 [00:00<?, ?it/s]"
     ]
    },
    {
     "name": "stderr",
     "output_type": "stream",
     "text": [
      "100%|██████████| 17/17 [00:00<00:00, 273.06it/s]\n"
     ]
    }
   ],
   "source": [
    "hierarchical_topics = topic_model.hierarchical_topics(data)\n",
    "fig1 = topic_model.visualize_topics()\n",
    "fig2 = topic_model.visualize_hierarchy(hierarchical_topics=hierarchical_topics) # since BerTopic can returns many topics and some topics are very related to others, we can visualize this and find the main topics \n",
    "fig3 = topic_model.visualize_documents(data,embeddings=embeddings)\n",
    "fig4 = topic_model.visualize_barchart()\n",
    "fig5 = topic_model.visualize_heatmap()\n",
    "fig6 = topic_model.visualize_term_rank()\n",
    "fig1.write_html(\"1.topics.html\")\n",
    "fig2.write_html(\"2.topics.html\")\n",
    "fig3.write_html(\"3.topics.html\")\n",
    "fig4.write_html(\"4.topics.html\")\n",
    "fig5.write_html(\"5.topics.html\")\n",
    "fig6.write_html(\"6.topics.html\")\n"
   ]
  },
  {
   "cell_type": "markdown",
   "id": "658c36df",
   "metadata": {},
   "source": [
    "### Fine tuning\n",
    "update topics\n",
    "Reduce outliers"
   ]
  },
  {
   "cell_type": "markdown",
   "id": "e388447c",
   "metadata": {},
   "source": [
    "### Some operations to extract data from our model"
   ]
  },
  {
   "cell_type": "code",
   "execution_count": 83,
   "id": "d862a539",
   "metadata": {},
   "outputs": [
    {
     "name": "stdout",
     "output_type": "stream",
     "text": [
      "[('Trade war tensions', 1)]\n"
     ]
    }
   ],
   "source": [
    "print(topic_model_tuned.get_topic(topic=0)) # acess single topic\n"
   ]
  },
  {
   "cell_type": "code",
   "execution_count": 85,
   "id": "28f0e24c",
   "metadata": {},
   "outputs": [
    {
     "data": {
      "text/html": [
       "<div>\n",
       "<style scoped>\n",
       "    .dataframe tbody tr th:only-of-type {\n",
       "        vertical-align: middle;\n",
       "    }\n",
       "\n",
       "    .dataframe tbody tr th {\n",
       "        vertical-align: top;\n",
       "    }\n",
       "\n",
       "    .dataframe thead th {\n",
       "        text-align: right;\n",
       "    }\n",
       "</style>\n",
       "<table border=\"1\" class=\"dataframe\">\n",
       "  <thead>\n",
       "    <tr style=\"text-align: right;\">\n",
       "      <th></th>\n",
       "      <th>Document</th>\n",
       "      <th>Topic</th>\n",
       "      <th>Name</th>\n",
       "      <th>Representation</th>\n",
       "      <th>Representative_Docs</th>\n",
       "      <th>Top_n_words</th>\n",
       "      <th>Probability</th>\n",
       "      <th>Representative_document</th>\n",
       "    </tr>\n",
       "  </thead>\n",
       "  <tbody>\n",
       "    <tr>\n",
       "      <th>0</th>\n",
       "      <td>réunis tanzanie samedi février dirigeants afri...</td>\n",
       "      <td>5</td>\n",
       "      <td>5_Political movements and elections</td>\n",
       "      <td>[Political movements and elections]</td>\n",
       "      <td>[deux semaines élections législatives outre rh...</td>\n",
       "      <td>Political movements and elections</td>\n",
       "      <td>0.780548</td>\n",
       "      <td>False</td>\n",
       "    </tr>\n",
       "    <tr>\n",
       "      <th>1</th>\n",
       "      <td>alors administration trump annoncé couper fina...</td>\n",
       "      <td>0</td>\n",
       "      <td>0_Trade war tensions</td>\n",
       "      <td>[Trade war tensions]</td>\n",
       "      <td>[justin trudeau annoncé lundi soir états unis ...</td>\n",
       "      <td>Trade war tensions</td>\n",
       "      <td>0.765345</td>\n",
       "      <td>False</td>\n",
       "    </tr>\n",
       "    <tr>\n",
       "      <th>2</th>\n",
       "      <td>extraction précieux sable minéralisé multinati...</td>\n",
       "      <td>8</td>\n",
       "      <td>8_Pollution and Extraction</td>\n",
       "      <td>[Pollution and Extraction]</td>\n",
       "      <td>[décryptage mesures sédiments mer égée retrouv...</td>\n",
       "      <td>Pollution and Extraction</td>\n",
       "      <td>0.432665</td>\n",
       "      <td>True</td>\n",
       "    </tr>\n",
       "    <tr>\n",
       "      <th>3</th>\n",
       "      <td>arrivé tête suffrage premier ministre gauche b...</td>\n",
       "      <td>5</td>\n",
       "      <td>5_Political movements and elections</td>\n",
       "      <td>[Political movements and elections]</td>\n",
       "      <td>[deux semaines élections législatives outre rh...</td>\n",
       "      <td>Political movements and elections</td>\n",
       "      <td>1.000000</td>\n",
       "      <td>False</td>\n",
       "    </tr>\n",
       "    <tr>\n",
       "      <th>4</th>\n",
       "      <td>si dit avoir reçu notification hausse droits d...</td>\n",
       "      <td>0</td>\n",
       "      <td>0_Trade war tensions</td>\n",
       "      <td>[Trade war tensions]</td>\n",
       "      <td>[justin trudeau annoncé lundi soir états unis ...</td>\n",
       "      <td>Trade war tensions</td>\n",
       "      <td>0.670282</td>\n",
       "      <td>False</td>\n",
       "    </tr>\n",
       "    <tr>\n",
       "      <th>...</th>\n",
       "      <td>...</td>\n",
       "      <td>...</td>\n",
       "      <td>...</td>\n",
       "      <td>...</td>\n",
       "      <td>...</td>\n",
       "      <td>...</td>\n",
       "      <td>...</td>\n",
       "      <td>...</td>\n",
       "    </tr>\n",
       "    <tr>\n",
       "      <th>140</th>\n",
       "      <td>reportage gennevilliers mairie association mob...</td>\n",
       "      <td>2</td>\n",
       "      <td>2_Challenges for ski stations</td>\n",
       "      <td>[Challenges for ski stations]</td>\n",
       "      <td>[fragilisée condition météo difficiles explosi...</td>\n",
       "      <td>Challenges for ski stations</td>\n",
       "      <td>0.839180</td>\n",
       "      <td>False</td>\n",
       "    </tr>\n",
       "    <tr>\n",
       "      <th>141</th>\n",
       "      <td>récit situé nord chili observatoire américain ...</td>\n",
       "      <td>2</td>\n",
       "      <td>2_Challenges for ski stations</td>\n",
       "      <td>[Challenges for ski stations]</td>\n",
       "      <td>[fragilisée condition météo difficiles explosi...</td>\n",
       "      <td>Challenges for ski stations</td>\n",
       "      <td>0.988151</td>\n",
       "      <td>False</td>\n",
       "    </tr>\n",
       "    <tr>\n",
       "      <th>142</th>\n",
       "      <td>décryptage étude montre surtout bombes américa...</td>\n",
       "      <td>8</td>\n",
       "      <td>8_Pollution and Extraction</td>\n",
       "      <td>[Pollution and Extraction]</td>\n",
       "      <td>[décryptage mesures sédiments mer égée retrouv...</td>\n",
       "      <td>Pollution and Extraction</td>\n",
       "      <td>1.000000</td>\n",
       "      <td>False</td>\n",
       "    </tr>\n",
       "    <tr>\n",
       "      <th>143</th>\n",
       "      <td>décryptage jalon important trajectoire vers ne...</td>\n",
       "      <td>2</td>\n",
       "      <td>2_Challenges for ski stations</td>\n",
       "      <td>[Challenges for ski stations]</td>\n",
       "      <td>[fragilisée condition météo difficiles explosi...</td>\n",
       "      <td>Challenges for ski stations</td>\n",
       "      <td>0.646725</td>\n",
       "      <td>False</td>\n",
       "    </tr>\n",
       "    <tr>\n",
       "      <th>144</th>\n",
       "      <td>stabilité socio économique politique aussi app...</td>\n",
       "      <td>5</td>\n",
       "      <td>5_Political movements and elections</td>\n",
       "      <td>[Political movements and elections]</td>\n",
       "      <td>[deux semaines élections législatives outre rh...</td>\n",
       "      <td>Political movements and elections</td>\n",
       "      <td>0.565935</td>\n",
       "      <td>False</td>\n",
       "    </tr>\n",
       "  </tbody>\n",
       "</table>\n",
       "<p>145 rows × 8 columns</p>\n",
       "</div>"
      ],
      "text/plain": [
       "                                              Document  Topic  \\\n",
       "0    réunis tanzanie samedi février dirigeants afri...      5   \n",
       "1    alors administration trump annoncé couper fina...      0   \n",
       "2    extraction précieux sable minéralisé multinati...      8   \n",
       "3    arrivé tête suffrage premier ministre gauche b...      5   \n",
       "4    si dit avoir reçu notification hausse droits d...      0   \n",
       "..                                                 ...    ...   \n",
       "140  reportage gennevilliers mairie association mob...      2   \n",
       "141  récit situé nord chili observatoire américain ...      2   \n",
       "142  décryptage étude montre surtout bombes américa...      8   \n",
       "143  décryptage jalon important trajectoire vers ne...      2   \n",
       "144  stabilité socio économique politique aussi app...      5   \n",
       "\n",
       "                                    Name                       Representation  \\\n",
       "0    5_Political movements and elections  [Political movements and elections]   \n",
       "1                   0_Trade war tensions                 [Trade war tensions]   \n",
       "2             8_Pollution and Extraction           [Pollution and Extraction]   \n",
       "3    5_Political movements and elections  [Political movements and elections]   \n",
       "4                   0_Trade war tensions                 [Trade war tensions]   \n",
       "..                                   ...                                  ...   \n",
       "140        2_Challenges for ski stations        [Challenges for ski stations]   \n",
       "141        2_Challenges for ski stations        [Challenges for ski stations]   \n",
       "142           8_Pollution and Extraction           [Pollution and Extraction]   \n",
       "143        2_Challenges for ski stations        [Challenges for ski stations]   \n",
       "144  5_Political movements and elections  [Political movements and elections]   \n",
       "\n",
       "                                   Representative_Docs  \\\n",
       "0    [deux semaines élections législatives outre rh...   \n",
       "1    [justin trudeau annoncé lundi soir états unis ...   \n",
       "2    [décryptage mesures sédiments mer égée retrouv...   \n",
       "3    [deux semaines élections législatives outre rh...   \n",
       "4    [justin trudeau annoncé lundi soir états unis ...   \n",
       "..                                                 ...   \n",
       "140  [fragilisée condition météo difficiles explosi...   \n",
       "141  [fragilisée condition météo difficiles explosi...   \n",
       "142  [décryptage mesures sédiments mer égée retrouv...   \n",
       "143  [fragilisée condition météo difficiles explosi...   \n",
       "144  [deux semaines élections législatives outre rh...   \n",
       "\n",
       "                           Top_n_words  Probability  Representative_document  \n",
       "0    Political movements and elections     0.780548                    False  \n",
       "1                   Trade war tensions     0.765345                    False  \n",
       "2             Pollution and Extraction     0.432665                     True  \n",
       "3    Political movements and elections     1.000000                    False  \n",
       "4                   Trade war tensions     0.670282                    False  \n",
       "..                                 ...          ...                      ...  \n",
       "140        Challenges for ski stations     0.839180                    False  \n",
       "141        Challenges for ski stations     0.988151                    False  \n",
       "142           Pollution and Extraction     1.000000                    False  \n",
       "143        Challenges for ski stations     0.646725                    False  \n",
       "144  Political movements and elections     0.565935                    False  \n",
       "\n",
       "[145 rows x 8 columns]"
      ]
     },
     "execution_count": 85,
     "metadata": {},
     "output_type": "execute_result"
    }
   ],
   "source": [
    "topic_model_tuned.get_document_info(data)"
   ]
  },
  {
   "cell_type": "code",
   "execution_count": 89,
   "id": "9bc183ce",
   "metadata": {},
   "outputs": [
    {
     "data": {
      "text/html": [
       "<div>\n",
       "<style scoped>\n",
       "    .dataframe tbody tr th:only-of-type {\n",
       "        vertical-align: middle;\n",
       "    }\n",
       "\n",
       "    .dataframe tbody tr th {\n",
       "        vertical-align: top;\n",
       "    }\n",
       "\n",
       "    .dataframe thead th {\n",
       "        text-align: right;\n",
       "    }\n",
       "</style>\n",
       "<table border=\"1\" class=\"dataframe\">\n",
       "  <thead>\n",
       "    <tr style=\"text-align: right;\">\n",
       "      <th></th>\n",
       "      <th>Topic</th>\n",
       "      <th>Count</th>\n",
       "      <th>Name</th>\n",
       "      <th>Representation</th>\n",
       "      <th>Representative_Docs</th>\n",
       "    </tr>\n",
       "  </thead>\n",
       "  <tbody>\n",
       "    <tr>\n",
       "      <th>0</th>\n",
       "      <td>-1</td>\n",
       "      <td>4</td>\n",
       "      <td>-1_Current events and media</td>\n",
       "      <td>[Current events and media]</td>\n",
       "      <td>[ministre culture également annoncé vouloir ré...</td>\n",
       "    </tr>\n",
       "    <tr>\n",
       "      <th>1</th>\n",
       "      <td>0</td>\n",
       "      <td>38</td>\n",
       "      <td>0_Trade war tensions</td>\n",
       "      <td>[Trade war tensions]</td>\n",
       "      <td>[justin trudeau annoncé lundi soir états unis ...</td>\n",
       "    </tr>\n",
       "    <tr>\n",
       "      <th>2</th>\n",
       "      <td>1</td>\n",
       "      <td>36</td>\n",
       "      <td>1_French entertainment industry</td>\n",
       "      <td>[French entertainment industry]</td>\n",
       "      <td>[sûrement déjà allé parc attraction savez avan...</td>\n",
       "    </tr>\n",
       "    <tr>\n",
       "      <th>3</th>\n",
       "      <td>2</td>\n",
       "      <td>16</td>\n",
       "      <td>2_Challenges for ski stations</td>\n",
       "      <td>[Challenges for ski stations]</td>\n",
       "      <td>[fragilisée condition météo difficiles explosi...</td>\n",
       "    </tr>\n",
       "    <tr>\n",
       "      <th>4</th>\n",
       "      <td>3</td>\n",
       "      <td>15</td>\n",
       "      <td>3_Baltic electricity independence</td>\n",
       "      <td>[Baltic electricity independence]</td>\n",
       "      <td>[trois pay baltes intégrés union européenne ot...</td>\n",
       "    </tr>\n",
       "    <tr>\n",
       "      <th>5</th>\n",
       "      <td>4</td>\n",
       "      <td>13</td>\n",
       "      <td>4_Libération des otages</td>\n",
       "      <td>[Libération des otages]</td>\n",
       "      <td>[libération fait point conflit entre hamas isr...</td>\n",
       "    </tr>\n",
       "    <tr>\n",
       "      <th>6</th>\n",
       "      <td>5</td>\n",
       "      <td>8</td>\n",
       "      <td>5_Political movements and elections</td>\n",
       "      <td>[Political movements and elections]</td>\n",
       "      <td>[deux semaines élections législatives outre rh...</td>\n",
       "    </tr>\n",
       "    <tr>\n",
       "      <th>7</th>\n",
       "      <td>6</td>\n",
       "      <td>6</td>\n",
       "      <td>6_Nature and market dynamics</td>\n",
       "      <td>[Nature and market dynamics]</td>\n",
       "      <td>[décryptage impressionnante crise sismique vit...</td>\n",
       "    </tr>\n",
       "    <tr>\n",
       "      <th>8</th>\n",
       "      <td>7</td>\n",
       "      <td>5</td>\n",
       "      <td>7_Frequency renewal disputes</td>\n",
       "      <td>[Frequency renewal disputes]</td>\n",
       "      <td>[groupe nrj va déposer recours auprès conseil ...</td>\n",
       "    </tr>\n",
       "    <tr>\n",
       "      <th>9</th>\n",
       "      <td>8</td>\n",
       "      <td>4</td>\n",
       "      <td>8_Pollution and Extraction</td>\n",
       "      <td>[Pollution and Extraction]</td>\n",
       "      <td>[décryptage mesures sédiments mer égée retrouv...</td>\n",
       "    </tr>\n",
       "  </tbody>\n",
       "</table>\n",
       "</div>"
      ],
      "text/plain": [
       "   Topic  Count                                 Name  \\\n",
       "0     -1      4          -1_Current events and media   \n",
       "1      0     38                 0_Trade war tensions   \n",
       "2      1     36      1_French entertainment industry   \n",
       "3      2     16        2_Challenges for ski stations   \n",
       "4      3     15    3_Baltic electricity independence   \n",
       "5      4     13              4_Libération des otages   \n",
       "6      5      8  5_Political movements and elections   \n",
       "7      6      6         6_Nature and market dynamics   \n",
       "8      7      5         7_Frequency renewal disputes   \n",
       "9      8      4           8_Pollution and Extraction   \n",
       "\n",
       "                        Representation  \\\n",
       "0           [Current events and media]   \n",
       "1                 [Trade war tensions]   \n",
       "2      [French entertainment industry]   \n",
       "3        [Challenges for ski stations]   \n",
       "4    [Baltic electricity independence]   \n",
       "5              [Libération des otages]   \n",
       "6  [Political movements and elections]   \n",
       "7         [Nature and market dynamics]   \n",
       "8         [Frequency renewal disputes]   \n",
       "9           [Pollution and Extraction]   \n",
       "\n",
       "                                 Representative_Docs  \n",
       "0  [ministre culture également annoncé vouloir ré...  \n",
       "1  [justin trudeau annoncé lundi soir états unis ...  \n",
       "2  [sûrement déjà allé parc attraction savez avan...  \n",
       "3  [fragilisée condition météo difficiles explosi...  \n",
       "4  [trois pay baltes intégrés union européenne ot...  \n",
       "5  [libération fait point conflit entre hamas isr...  \n",
       "6  [deux semaines élections législatives outre rh...  \n",
       "7  [décryptage impressionnante crise sismique vit...  \n",
       "8  [groupe nrj va déposer recours auprès conseil ...  \n",
       "9  [décryptage mesures sédiments mer égée retrouv...  "
      ]
     },
     "execution_count": 89,
     "metadata": {},
     "output_type": "execute_result"
    }
   ],
   "source": [
    "topics = topic_model_tuned.get_topic_info()\n",
    "topics"
   ]
  },
  {
   "cell_type": "code",
   "execution_count": 86,
   "id": "0f4d635e",
   "metadata": {},
   "outputs": [],
   "source": [
    "# a dict behave type\n",
    "doc = topic_model_tuned.get_document_info(data)[\"Representative_Docs\"][0]"
   ]
  },
  {
   "cell_type": "code",
   "execution_count": 45,
   "id": "5b9d63ba",
   "metadata": {},
   "outputs": [],
   "source": [
    "# save model\n",
    "topic_model_tuned.save(\"fine_tuned_model\",serialization=\"safetensors\")\n",
    "topic_model.save(\"Bertopic_model\",serialization=\"safetensors\")"
   ]
  },
  {
   "cell_type": "code",
   "execution_count": null,
   "id": "bea364e6",
   "metadata": {},
   "outputs": [],
   "source": [
    "# load model, the traning data will not be save\n",
    "load_finte_tuned = BERTopic.load(\"fine_tuned_model\",embedding_model=SentenceTransformer('sentence-transformers/all-MiniLM-L12-v2'))\n",
    "load_bert = BERTopic.load(\"Bertopic_model\",embedding_model=SentenceTransformer('sentence-transformers/all-MiniLM-L12-v2'))\n",
    "# "
   ]
  },
  {
   "cell_type": "code",
   "execution_count": 105,
   "id": "d2a17139",
   "metadata": {},
   "outputs": [
    {
     "name": "stdout",
     "output_type": "stream",
     "text": [
      "topic of new data: [4] which is Libération otages Gaza with a prob of 0.45695263147354126\n"
     ]
    }
   ],
   "source": [
    "data_new = [\"De l’immigration à la guerre dans la bande de Gaza ou le gel de l’aide humanitaire internationale, les sujets de friction entre Washington et le Vatican ne manquent pas. La rencontre, samedi, entre le vice-président des Etats-Unis et le cardinal Parolin, numéro deux du Saint-Siège, doit en partie solder la dispute et rappeler l’unité de l’Eglise.\"]\n",
    "topic_new, probs_new = load_bert.transform(data_new)\n",
    "\n",
    "print(f\"topic of new data: {topic_new} which is {load_bert.get_topic(topic_new[0])[0][0]} with a prob of {probs_new[0]}\")"
   ]
  },
  {
   "cell_type": "code",
   "execution_count": 94,
   "id": "f9336609",
   "metadata": {},
   "outputs": [
    {
     "data": {
      "text/html": [
       "<div>\n",
       "<style scoped>\n",
       "    .dataframe tbody tr th:only-of-type {\n",
       "        vertical-align: middle;\n",
       "    }\n",
       "\n",
       "    .dataframe tbody tr th {\n",
       "        vertical-align: top;\n",
       "    }\n",
       "\n",
       "    .dataframe thead th {\n",
       "        text-align: right;\n",
       "    }\n",
       "</style>\n",
       "<table border=\"1\" class=\"dataframe\">\n",
       "  <thead>\n",
       "    <tr style=\"text-align: right;\">\n",
       "      <th></th>\n",
       "      <th>Topic</th>\n",
       "      <th>Count</th>\n",
       "      <th>Name</th>\n",
       "      <th>Representation</th>\n",
       "      <th>Representative_Docs</th>\n",
       "    </tr>\n",
       "  </thead>\n",
       "  <tbody>\n",
       "    <tr>\n",
       "      <th>0</th>\n",
       "      <td>-1</td>\n",
       "      <td>4</td>\n",
       "      <td>-1_Current global events</td>\n",
       "      <td>[Current global events]</td>\n",
       "      <td>NaN</td>\n",
       "    </tr>\n",
       "    <tr>\n",
       "      <th>1</th>\n",
       "      <td>0</td>\n",
       "      <td>38</td>\n",
       "      <td>0_Guerre commerciale États-Unis</td>\n",
       "      <td>[Guerre commerciale États-Unis]</td>\n",
       "      <td>NaN</td>\n",
       "    </tr>\n",
       "    <tr>\n",
       "      <th>2</th>\n",
       "      <td>1</td>\n",
       "      <td>36</td>\n",
       "      <td>1_Culture and Entertainment</td>\n",
       "      <td>[Culture and Entertainment]</td>\n",
       "      <td>NaN</td>\n",
       "    </tr>\n",
       "    <tr>\n",
       "      <th>3</th>\n",
       "      <td>2</td>\n",
       "      <td>16</td>\n",
       "      <td>2_Ski station challenges</td>\n",
       "      <td>[Ski station challenges]</td>\n",
       "      <td>NaN</td>\n",
       "    </tr>\n",
       "    <tr>\n",
       "      <th>4</th>\n",
       "      <td>3</td>\n",
       "      <td>15</td>\n",
       "      <td>3_Energy independence transition</td>\n",
       "      <td>[Energy independence transition]</td>\n",
       "      <td>NaN</td>\n",
       "    </tr>\n",
       "    <tr>\n",
       "      <th>5</th>\n",
       "      <td>4</td>\n",
       "      <td>13</td>\n",
       "      <td>4_Libération otages Gaza</td>\n",
       "      <td>[Libération otages Gaza]</td>\n",
       "      <td>NaN</td>\n",
       "    </tr>\n",
       "    <tr>\n",
       "      <th>6</th>\n",
       "      <td>5</td>\n",
       "      <td>8</td>\n",
       "      <td>5_Political Elections and Democracy</td>\n",
       "      <td>[Political Elections and Democracy]</td>\n",
       "      <td>NaN</td>\n",
       "    </tr>\n",
       "    <tr>\n",
       "      <th>7</th>\n",
       "      <td>6</td>\n",
       "      <td>6</td>\n",
       "      <td>6_Environmental research trends</td>\n",
       "      <td>[Environmental research trends]</td>\n",
       "      <td>NaN</td>\n",
       "    </tr>\n",
       "    <tr>\n",
       "      <th>8</th>\n",
       "      <td>7</td>\n",
       "      <td>5</td>\n",
       "      <td>7_TNT Frequency Renewals</td>\n",
       "      <td>[TNT Frequency Renewals]</td>\n",
       "      <td>NaN</td>\n",
       "    </tr>\n",
       "    <tr>\n",
       "      <th>9</th>\n",
       "      <td>8</td>\n",
       "      <td>4</td>\n",
       "      <td>8_Pollution and industrial impact</td>\n",
       "      <td>[Pollution and industrial impact]</td>\n",
       "      <td>NaN</td>\n",
       "    </tr>\n",
       "  </tbody>\n",
       "</table>\n",
       "</div>"
      ],
      "text/plain": [
       "   Topic  Count                                 Name  \\\n",
       "0     -1      4             -1_Current global events   \n",
       "1      0     38      0_Guerre commerciale États-Unis   \n",
       "2      1     36          1_Culture and Entertainment   \n",
       "3      2     16             2_Ski station challenges   \n",
       "4      3     15     3_Energy independence transition   \n",
       "5      4     13             4_Libération otages Gaza   \n",
       "6      5      8  5_Political Elections and Democracy   \n",
       "7      6      6      6_Environmental research trends   \n",
       "8      7      5             7_TNT Frequency Renewals   \n",
       "9      8      4    8_Pollution and industrial impact   \n",
       "\n",
       "                        Representation  Representative_Docs  \n",
       "0              [Current global events]                  NaN  \n",
       "1      [Guerre commerciale États-Unis]                  NaN  \n",
       "2          [Culture and Entertainment]                  NaN  \n",
       "3             [Ski station challenges]                  NaN  \n",
       "4     [Energy independence transition]                  NaN  \n",
       "5             [Libération otages Gaza]                  NaN  \n",
       "6  [Political Elections and Democracy]                  NaN  \n",
       "7      [Environmental research trends]                  NaN  \n",
       "8             [TNT Frequency Renewals]                  NaN  \n",
       "9    [Pollution and industrial impact]                  NaN  "
      ]
     },
     "execution_count": 94,
     "metadata": {},
     "output_type": "execute_result"
    }
   ],
   "source": [
    "topic_info = load_bert.get_topic_info()\n",
    "topic_info"
   ]
  },
  {
   "cell_type": "markdown",
   "id": "5ce934a0",
   "metadata": {},
   "source": [
    "## Build a Bertopic by ourself"
   ]
  },
  {
   "cell_type": "markdown",
   "id": "406bc773",
   "metadata": {},
   "source": [
    "### 1. Word embedding"
   ]
  },
  {
   "cell_type": "code",
   "execution_count": 1,
   "id": "a925ed12",
   "metadata": {},
   "outputs": [],
   "source": [
    "sentences = [\n",
    "    # Phrases sur la météo\n",
    "    \"La tempête a provoqué des inondations dans plusieurs régions côtières hier soir.\",\n",
    "    \"Les prévisions météorologiques annoncent un temps ensoleillé pour tout le week-end.\",\n",
    "    \"L'hiver dernier a été particulièrement froid avec des températures descendant jusqu'à -15°C.\",\n",
    "    \"Un épais brouillard s'est installé sur la ville ce matin, réduisant la visibilité à quelques mètres.\",\n",
    "    \"La canicule persistante a battu des records de température dans plusieurs villes du sud.\",\n",
    "    \"Les agriculteurs espèrent des précipitations dans les prochains jours pour sauver leurs cultures.\",\n",
    "    \"Le vent violent a arraché plusieurs arbres et endommagé des toitures dans le quartier.\",\n",
    "    \"L'humidité élevée rend la chaleur encore plus difficile à supporter aujourd'hui.\",\n",
    "    \"Un arc-en-ciel magnifique est apparu après l'averse de cet après-midi.\",\n",
    "    \"Les météorologues prévoient un automne plus chaud que la normale cette année.\",\n",
    "    \n",
    "    # Phrases sur le NLP\n",
    "    \"Les modèles de transformers ont révolutionné le traitement du langage naturel depuis 2018.\",\n",
    "    \"L'apprentissage par transfert permet d'adapter des modèles linguistiques à des tâches spécifiques.\",\n",
    "    \"La tokenisation est une étape cruciale dans le prétraitement des données textuelles.\",\n",
    "    \"BERT a marqué une avancée significative en capturant le contexte bidirectionnel des mots.\",\n",
    "    \"L'attention est un mécanisme qui permet aux modèles de se concentrer sur les parties pertinentes d'une séquence.\",\n",
    "    \"Les word embeddings représentent les mots dans un espace vectoriel continu.\",\n",
    "    \"Le fine-tuning consiste à ajuster un modèle pré-entraîné sur un corpus spécifique.\",\n",
    "    \"La reconnaissance d'entités nommées est une tâche fondamentale en extraction d'information.\",\n",
    "    \"Les modèles multilingues peuvent traiter efficacement plusieurs langues avec une seule architecture.\",\n",
    "    \"L'évaluation des modèles de génération de texte reste un défi majeur en NLP.\"\n",
    "]"
   ]
  },
  {
   "cell_type": "code",
   "execution_count": 5,
   "id": "0097eec8",
   "metadata": {},
   "outputs": [
    {
     "name": "stdout",
     "output_type": "stream",
     "text": [
      "(20, 768) [[-0.01025722  0.04177687 -0.2273639  ...  0.22829558  0.1961667\n",
      "   0.05641668]\n",
      " [-0.05740656 -0.03119146 -0.06102162 ...  0.17400885  0.14730765\n",
      "   0.03451753]\n",
      " [ 0.04899164 -0.16157585 -0.1972949  ...  0.14858171  0.02258325\n",
      "  -0.00183562]\n",
      " ...\n",
      " [ 0.08897563  0.1353907  -0.26507342 ...  0.02865572 -0.03049049\n",
      "  -0.0164471 ]\n",
      " [-0.01155569  0.2491225  -0.1717322  ... -0.07203957  0.05167952\n",
      "  -0.15898955]\n",
      " [-0.04817954  0.18282564 -0.1426191  ... -0.04707405  0.032332\n",
      "  -0.00364248]]\n"
     ]
    }
   ],
   "source": [
    "embedding_model = SentenceTransformer(\"dangvantuan/sentence-camembert-base\")\n",
    "embeddings = embedding_model.encode(sentences)\n",
    "print(embeddings.shape, embeddings)"
   ]
  },
  {
   "cell_type": "markdown",
   "id": "4732dea0",
   "metadata": {},
   "source": [
    "### 2. Reducing dimensionality"
   ]
  },
  {
   "cell_type": "code",
   "execution_count": 6,
   "id": "3c0481d3",
   "metadata": {},
   "outputs": [
    {
     "name": "stdout",
     "output_type": "stream",
     "text": [
      "(20, 2) [[-1.2525064  -0.96847224]\n",
      " [-1.4011917  -0.43477476]\n",
      " [-1.0734665   1.336559  ]\n",
      " [-1.1208297   0.05924867]\n",
      " [-1.0393478   0.83393097]\n",
      " [-1.1334828  -0.94038737]\n",
      " [-0.87662905 -0.71724105]\n",
      " [-1.0920854   0.81116074]\n",
      " [-1.1041651  -0.4952285 ]\n",
      " [-1.3371707   0.79607034]\n",
      " [ 0.98889714 -0.6086606 ]\n",
      " [ 1.1706855  -0.5381844 ]\n",
      " [ 1.0980732   1.0145339 ]\n",
      " [ 1.396133    0.28289065]\n",
      " [ 1.1494833  -0.68348527]\n",
      " [ 1.025191    0.04662155]\n",
      " [ 1.2198969  -0.28630906]\n",
      " [ 1.131776    1.0651664 ]\n",
      " [ 0.87797993 -1.3062295 ]\n",
      " [ 1.3727589   0.7327898 ]]\n"
     ]
    }
   ],
   "source": [
    "from sklearn.decomposition import PCA\n",
    "pca = PCA(n_components=2)\n",
    "reduced_embeddings = pca.fit_transform(embeddings)\n",
    "print(reduced_embeddings.shape, reduced_embeddings)"
   ]
  },
  {
   "cell_type": "code",
   "execution_count": 9,
   "id": "a2ee1f7f",
   "metadata": {},
   "outputs": [
    {
     "name": "stdout",
     "output_type": "stream",
     "text": [
      "(20, 2) [[-1.2525064  -0.96847224]\n",
      " [-1.4011917  -0.43477476]\n",
      " [-1.0734665   1.336559  ]\n",
      " [-1.1208297   0.05924867]\n",
      " [-1.0393478   0.83393097]\n",
      " [-1.1334828  -0.94038737]\n",
      " [-0.87662905 -0.71724105]\n",
      " [-1.0920854   0.81116074]\n",
      " [-1.1041651  -0.4952285 ]\n",
      " [-1.3371707   0.79607034]\n",
      " [ 0.98889714 -0.6086606 ]\n",
      " [ 1.1706855  -0.5381844 ]\n",
      " [ 1.0980732   1.0145339 ]\n",
      " [ 1.396133    0.28289065]\n",
      " [ 1.1494833  -0.68348527]\n",
      " [ 1.025191    0.04662155]\n",
      " [ 1.2198969  -0.28630906]\n",
      " [ 1.131776    1.0651664 ]\n",
      " [ 0.87797993 -1.3062295 ]\n",
      " [ 1.3727589   0.7327898 ]]\n"
     ]
    }
   ],
   "source": [
    "umap_model = UMAP(n_components=2)\n",
    "reduced_embeddings2 = umap_model.fit_transform(embeddings)\n",
    "print(reduced_embeddings.shape, reduced_embeddings)"
   ]
  },
  {
   "cell_type": "code",
   "execution_count": 14,
   "id": "3504b052",
   "metadata": {},
   "outputs": [
    {
     "data": {
      "text/plain": [
       "<matplotlib.collections.PathCollection at 0x7e0bc3dbbe30>"
      ]
     },
     "execution_count": 14,
     "metadata": {},
     "output_type": "execute_result"
    },
    {
     "data": {
      "image/png": "[encoded data removed]",
      "text/plain": [
       "<Figure size 640x480 with 1 Axes>"
      ]
     },
     "metadata": {},
     "output_type": "display_data"
    }
   ],
   "source": [
    "import matplotlib.pyplot as plt\n",
    "plt.scatter(x=reduced_embeddings[:,0], y=reduced_embeddings[:,1],color=\"blue\")\n",
    "plt.scatter(x=reduced_embeddings2[:,0], y=reduced_embeddings2[:,1],color=\"black\")"
   ]
  },
  {
   "cell_type": "markdown",
   "id": "7b54a905",
   "metadata": {},
   "source": [
    "### Topic clustering"
   ]
  },
  {
   "cell_type": "code",
   "execution_count": 15,
   "id": "c6e2121e",
   "metadata": {},
   "outputs": [
    {
     "data": {
      "text/plain": [
       "array([0, 0, 0, 0, 0, 0, 0, 0, 0, 0, 1, 1, 1, 1, 1, 1, 1, 1, 1, 1])"
      ]
     },
     "execution_count": 15,
     "metadata": {},
     "output_type": "execute_result"
    }
   ],
   "source": [
    "hdbscan_model = HDBSCAN(\n",
    "    min_cluster_size=5\n",
    ")\n",
    "hdbscan_model.fit(reduced_embeddings)\n",
    "hdbscan_model.labels_"
   ]
  },
  {
   "cell_type": "markdown",
   "id": "3da95092",
   "metadata": {},
   "source": [
    "### Word vectorizer\n",
    "In this step we count words of all topics"
   ]
  },
  {
   "cell_type": "code",
   "execution_count": 47,
   "id": "2492641c",
   "metadata": {},
   "outputs": [
    {
     "name": "stdout",
     "output_type": "stream",
     "text": [
      "149 ['15' '2018' 'adapter' 'agriculteurs' 'ajuster']\n",
      "(2, 149) [[1 0 0 1 0 1 1 1 0 2 1 1 0 1 0 1 1 0 1 1 0 0 1 1 0 1 1 1 1 0 0 0 0 0 0 1\n",
      "  1 0 1 1 1 0 0 0 0 1 1 1 1 0 0 0 1 0 0 0 1 0 1 1 1 1 0 1 1 1 1 0 0 1 0 1\n",
      "  0 0 1 1 0 0 0 0 1 0 1 1 0 0 0 1 1 0 0 1 0 0 1 1 0 1 0 1 1 1 1 0 1 1 0 0\n",
      "  1 1 0 1 0 0 1 0 0 1 1 0 1 1 1 1 0 0 1 0 1 0 0 0 0 0 0 0 0 1 1 1 1 1 1 0\n",
      "  1 1 0 1 0]\n",
      " [0 1 1 0 1 0 0 0 1 0 0 0 1 0 1 0 0 1 0 0 1 1 0 0 1 0 0 0 0 1 1 1 1 1 1 0\n",
      "  0 1 0 0 0 1 1 1 1 0 0 0 0 1 1 1 0 1 1 1 0 1 0 0 0 0 1 0 0 0 0 1 1 0 1 0\n",
      "  1 1 0 0 1 5 2 1 0 1 0 0 1 1 1 0 0 1 2 0 1 1 0 0 1 0 1 0 0 0 0 1 0 0 1 1\n",
      "  0 0 1 0 1 1 0 1 1 0 0 1 0 0 0 0 1 1 0 1 0 1 1 1 1 1 1 1 1 0 0 0 0 0 0 1\n",
      "  0 0 1 0 1]]\n"
     ]
    }
   ],
   "source": [
    "from sklearn.feature_extraction.text import CountVectorizer\n",
    "french_stop_words = [\n",
    "    \"le\", \"la\", \"les\", \"des\", \"un\", \"une\", \"du\", \"de\", \"et\", \"est\", \"dans\", \"pour\",\n",
    "    \"en\", \"sur\", \"a\", \"au\", \"aux\", \"avec\", \"ce\", \"ces\", \"cette\", \"ont\", \"par\", \"plus\",\n",
    "    \"qui\", \"que\", \"se\", \"sont\", \"un\", \"une\", \"plusieurs\", \"est\"\n",
    "]\n",
    "word_vectorizer = CountVectorizer(stop_words=french_stop_words)\n",
    "top1 = \"\"\n",
    "top2 = \"\"\n",
    "for idx, label in enumerate(hdbscan_model.labels_):\n",
    "    if label == 0:\n",
    "        top1 += sentences[idx]\n",
    "    else:\n",
    "        top2 += sentences[idx]\n",
    "\n",
    "bow = word_vectorizer.fit_transform([top1, top2])\n",
    "vocab = word_vectorizer.get_feature_names_out()\n",
    "print(len(word_vectorizer.get_feature_names_out()), word_vectorizer.get_feature_names_out()[:5])\n",
    "\n",
    "bow_array = bow.toarray()\n",
    "print(bow_array.shape, bow_array)"
   ]
  },
  {
   "cell_type": "markdown",
   "id": "cfc93ba0",
   "metadata": {},
   "source": [
    "### TF-IDF\n",
    "Use this to find the most representative words for each topic\n",
    "get top 5 words for each topic"
   ]
  },
  {
   "cell_type": "code",
   "execution_count": 48,
   "id": "5aad5d0d",
   "metadata": {},
   "outputs": [
    {
     "name": "stdout",
     "output_type": "stream",
     "text": [
      "(2, 149) [[0.05530947 0.         0.         0.05530947 0.         0.05530947\n",
      "  0.05530947 0.05530947 0.         0.09338935]]\n"
     ]
    }
   ],
   "source": [
    "idf_model = ClassTfidfTransformer()\n",
    "c_tf_idf = idf_model.fit_transform(bow).toarray()\n",
    "print(c_tf_idf.shape, c_tf_idf[:1, :10])"
   ]
  },
  {
   "cell_type": "code",
   "execution_count": 49,
   "id": "10cb51fd",
   "metadata": {},
   "outputs": [
    {
     "name": "stdout",
     "output_type": "stream",
     "text": [
      "après modèles\n",
      "matin permet\n",
      "jusqu mots\n",
      "ensoleillé mécanisme\n",
      "espèrent corpus\n"
     ]
    }
   ],
   "source": [
    "top1_n_words_idx = np.argsort(c_tf_idf[0])[::-1]\n",
    "\n",
    "top2_n_words_idx = np.argsort(c_tf_idf[1])[::-1]\n",
    "\n",
    "for i in range(5):\n",
    "    print(vocab[top1_n_words_idx[i]], vocab[top2_n_words_idx[i]])"
   ]
  }
 ],
 "metadata": {
  "kernelspec": {
   "display_name": "my_env",
   "language": "python",
   "name": "python3"
  },
  "language_info": {
   "codemirror_mode": {
    "name": "ipython",
    "version": 3
   },
   "file_extension": ".py",
   "mimetype": "text/x-python",
   "name": "python",
   "nbconvert_exporter": "python",
   "pygments_lexer": "ipython3",
   "version": "3.12.3"
  }
 },
 "nbformat": 4,
 "nbformat_minor": 5
}
